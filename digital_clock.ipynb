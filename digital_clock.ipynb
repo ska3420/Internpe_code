{
 "cells": [
  {
   "cell_type": "code",
   "execution_count": 1,
   "id": "5cbbe1cc",
   "metadata": {},
   "outputs": [],
   "source": [
    "# importing whole module\n",
    "from tkinter import *\n",
    "from tkinter.ttk import *"
   ]
  },
  {
   "cell_type": "code",
   "execution_count": 2,
   "id": "f046e279",
   "metadata": {},
   "outputs": [],
   "source": [
    "from time import strftime"
   ]
  },
  {
   "cell_type": "code",
   "execution_count": 3,
   "id": "74573b7c",
   "metadata": {},
   "outputs": [
    {
     "data": {
      "text/plain": [
       "''"
      ]
     },
     "execution_count": 3,
     "metadata": {},
     "output_type": "execute_result"
    }
   ],
   "source": [
    "# creating tkinter window\n",
    "root = Tk()\n",
    "root.title('Clock')"
   ]
  },
  {
   "cell_type": "code",
   "execution_count": 4,
   "id": "c5b6e60d",
   "metadata": {},
   "outputs": [],
   "source": [
    "# display time on the label\n",
    " \n",
    "def time():\n",
    "    string = strftime('%H:%M:%S %p')\n",
    "    lbl.config(text=string)\n",
    "    lbl.after(1000, time)"
   ]
  },
  {
   "cell_type": "code",
   "execution_count": 5,
   "id": "e059b2fd",
   "metadata": {},
   "outputs": [],
   "source": [
    "lbl = Label(root, font=('calibri', 40, 'bold'),\n",
    "            background='purple',\n",
    "            foreground='white')"
   ]
  },
  {
   "cell_type": "code",
   "execution_count": 6,
   "id": "26cb1a34",
   "metadata": {},
   "outputs": [],
   "source": [
    "lbl.pack(anchor='center')\n",
    "time()"
   ]
  },
  {
   "cell_type": "code",
   "execution_count": null,
   "id": "fdf44183",
   "metadata": {},
   "outputs": [],
   "source": [
    "mainloop()"
   ]
  }
 ],
 "metadata": {
  "kernelspec": {
   "display_name": "Python 3 (ipykernel)",
   "language": "python",
   "name": "python3"
  },
  "language_info": {
   "codemirror_mode": {
    "name": "ipython",
    "version": 3
   },
   "file_extension": ".py",
   "mimetype": "text/x-python",
   "name": "python",
   "nbconvert_exporter": "python",
   "pygments_lexer": "ipython3",
   "version": "3.9.12"
  }
 },
 "nbformat": 4,
 "nbformat_minor": 5
}
