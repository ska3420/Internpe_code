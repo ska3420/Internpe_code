{
 "cells": [
  {
   "cell_type": "code",
   "execution_count": 10,
   "id": "ff885e51",
   "metadata": {},
   "outputs": [],
   "source": [
    "# Tic Tac Toe\n",
    "\n",
    "# Create the board\n",
    "board = [' ' for _ in range(9)]"
   ]
  },
  {
   "cell_type": "code",
   "execution_count": 11,
   "id": "bfff1824",
   "metadata": {},
   "outputs": [],
   "source": [
    "# Define winning combinations\n",
    "winning_combinations = [\n",
    "    [0, 1, 2], [3, 4, 5], [6, 7, 8],  # rows\n",
    "    [0, 3, 6], [1, 4, 7], [2, 5, 8],  # columns\n",
    "    [0, 4, 8], [2, 4, 6]              # diagonals\n",
    "]\n"
   ]
  },
  {
   "cell_type": "code",
   "execution_count": 12,
   "id": "9200aa0b",
   "metadata": {},
   "outputs": [],
   "source": [
    "# Function to print the board\n",
    "def print_board():\n",
    "    print('---------')\n",
    "    for i in range(0, 9, 3):\n",
    "        print(f'| {board[i]} | {board[i + 1]} | {board[i + 2]} |')\n",
    "        print('---------')"
   ]
  },
  {
   "cell_type": "code",
   "execution_count": 13,
   "id": "01bd55c4",
   "metadata": {},
   "outputs": [],
   "source": [
    "# Function to check if a player has won\n",
    "def check_winner(player):\n",
    "    for combination in winning_combinations:\n",
    "        if all(board[i] == player for i in combination):\n",
    "            return True\n",
    "    return False"
   ]
  },
  {
   "cell_type": "code",
   "execution_count": 14,
   "id": "f3758acd",
   "metadata": {},
   "outputs": [],
   "source": [
    "# Function to check if the board is full\n",
    "def is_board_full():\n",
    "    return ' ' not in board\n"
   ]
  },
  {
   "cell_type": "code",
   "execution_count": 15,
   "id": "5e57501e",
   "metadata": {},
   "outputs": [],
   "source": [
    "# Function to play the game\n",
    "def play_game():\n",
    "    current_player = 'X'\n",
    "    \n",
    "    while True:\n",
    "        print_board()\n",
    "        print(f\"Player {current_player}'s turn.\")\n",
    "        \n",
    "        position = int(input('Enter the position (1-9): ')) - 1\n",
    "        \n",
    "        if board[position] == ' ':\n",
    "            board[position] = current_player\n",
    "            \n",
    "            if check_winner(current_player):\n",
    "                print_board()\n",
    "                print(f\"Player {current_player} wins!\")\n",
    "                break\n",
    "            elif is_board_full():\n",
    "                print_board()\n",
    "                print(\"It's a tie!\")\n",
    "                break\n",
    "            else:\n",
    "                current_player = 'O' if current_player == 'X' else 'X'\n",
    "        else:\n",
    "            print(\"Invalid move. Please try again.\")"
   ]
  },
  {
   "cell_type": "code",
   "execution_count": 16,
   "id": "4fbf579f",
   "metadata": {},
   "outputs": [
    {
     "name": "stdout",
     "output_type": "stream",
     "text": [
      "---------\n",
      "|   |   |   |\n",
      "---------\n",
      "|   |   |   |\n",
      "---------\n",
      "|   |   |   |\n",
      "---------\n",
      "Player X's turn.\n",
      "Enter the position (1-9): 3\n",
      "---------\n",
      "|   |   | X |\n",
      "---------\n",
      "|   |   |   |\n",
      "---------\n",
      "|   |   |   |\n",
      "---------\n",
      "Player O's turn.\n",
      "Enter the position (1-9): 3\n",
      "Invalid move. Please try again.\n",
      "---------\n",
      "|   |   | X |\n",
      "---------\n",
      "|   |   |   |\n",
      "---------\n",
      "|   |   |   |\n",
      "---------\n",
      "Player O's turn.\n",
      "Enter the position (1-9): 2\n",
      "---------\n",
      "|   | O | X |\n",
      "---------\n",
      "|   |   |   |\n",
      "---------\n",
      "|   |   |   |\n",
      "---------\n",
      "Player X's turn.\n",
      "Enter the position (1-9): 5\n",
      "---------\n",
      "|   | O | X |\n",
      "---------\n",
      "|   | X |   |\n",
      "---------\n",
      "|   |   |   |\n",
      "---------\n",
      "Player O's turn.\n",
      "Enter the position (1-9): 6\n",
      "---------\n",
      "|   | O | X |\n",
      "---------\n",
      "|   | X | O |\n",
      "---------\n",
      "|   |   |   |\n",
      "---------\n",
      "Player X's turn.\n",
      "Enter the position (1-9): 7\n",
      "---------\n",
      "|   | O | X |\n",
      "---------\n",
      "|   | X | O |\n",
      "---------\n",
      "| X |   |   |\n",
      "---------\n",
      "Player X wins!\n"
     ]
    }
   ],
   "source": [
    "# Start the game\n",
    "play_game()"
   ]
  },
  {
   "cell_type": "code",
   "execution_count": null,
   "id": "c0a264a3",
   "metadata": {},
   "outputs": [],
   "source": []
  }
 ],
 "metadata": {
  "kernelspec": {
   "display_name": "Python 3 (ipykernel)",
   "language": "python",
   "name": "python3"
  },
  "language_info": {
   "codemirror_mode": {
    "name": "ipython",
    "version": 3
   },
   "file_extension": ".py",
   "mimetype": "text/x-python",
   "name": "python",
   "nbconvert_exporter": "python",
   "pygments_lexer": "ipython3",
   "version": "3.9.12"
  }
 },
 "nbformat": 4,
 "nbformat_minor": 5
}
